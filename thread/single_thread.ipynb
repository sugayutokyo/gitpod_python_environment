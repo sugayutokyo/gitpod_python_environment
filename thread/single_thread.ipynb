{
 "cells": [
  {
   "cell_type": "code",
   "execution_count": 4,
   "id": "c87ab8ef",
   "metadata": {},
   "outputs": [],
   "source": [
    "import time"
   ]
  },
  {
   "cell_type": "code",
   "execution_count": 21,
   "id": "a553b00f",
   "metadata": {},
   "outputs": [],
   "source": [
    "def make_chiken_rice():\n",
    "  print('ー チキンライスを作ります。')\n",
    "  time.sleep(3)\n",
    "  print('ー チキンライスができました。')\n",
    "\n",
    "def make_omelette():\n",
    "  print('ー オムレツを作ります。')\n",
    "  time.sleep(2)\n",
    "  print('ー オムレツができました。')"
   ]
  },
  {
   "cell_type": "code",
   "execution_count": 20,
   "id": "e7fc5690",
   "metadata": {},
   "outputs": [
    {
     "name": "stdout",
     "output_type": "stream",
     "text": [
      "オムライスを作ります。\n",
      "ー チキンライスを作ります\n",
      "ー チキンライスができました。\n",
      "ー オムレツをつくります。\n",
      "ー オムレツができました。\n",
      "盛り付けます。\n",
      "オムライスができました。\n"
     ]
    }
   ],
   "source": [
    "print('オムライスを作ります。')\n",
    "make_chiken_rice()\n",
    "time.sleep(1)\n",
    "make_omelette()\n",
    "print('盛り付けます。')\n",
    "time.sleep(1)\n",
    "print('オムライスができました。')"
   ]
  },
  {
   "cell_type": "code",
   "execution_count": null,
   "id": "2b2a934e",
   "metadata": {},
   "outputs": [],
   "source": []
  }
 ],
 "metadata": {
  "kernelspec": {
   "display_name": "Python 3 (ipykernel)",
   "language": "python",
   "name": "python3"
  },
  "language_info": {
   "codemirror_mode": {
    "name": "ipython",
    "version": 3
   },
   "file_extension": ".py",
   "mimetype": "text/x-python",
   "name": "python",
   "nbconvert_exporter": "python",
   "pygments_lexer": "ipython3",
   "version": "3.8.12"
  }
 },
 "nbformat": 4,
 "nbformat_minor": 5
}
