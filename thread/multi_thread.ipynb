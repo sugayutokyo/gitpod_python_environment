{
 "cells": [
  {
   "cell_type": "code",
   "execution_count": 1,
   "id": "1087cf23",
   "metadata": {},
   "outputs": [],
   "source": [
    "import time\n",
    "import threading"
   ]
  },
  {
   "cell_type": "code",
   "execution_count": 5,
   "id": "1ef8a8f8",
   "metadata": {},
   "outputs": [],
   "source": [
    "def make_chiken_rice():\n",
    "  print('ー チキンライスを作ります。')\n",
    "  time.sleep(3)\n",
    "  print('ー チキンライスができました。')\n",
    "\n",
    "def make_omelette():\n",
    "  print('ー オムレツを作ります。')\n",
    "  time.sleep(2)\n",
    "  print('ー オムレツができました。')"
   ]
  },
  {
   "cell_type": "code",
   "execution_count": 6,
   "id": "d0893641",
   "metadata": {},
   "outputs": [
    {
     "name": "stdout",
     "output_type": "stream",
     "text": [
      "オムライスを作ります。\n",
      "ー チキンライスを作ります。\n",
      "ー オムレツを作ります。\n",
      "ー オムレツができました。\n",
      "ー チキンライスができました。\n",
      "盛り付けます。\n",
      "オムライスができました。\n"
     ]
    }
   ],
   "source": [
    "print('オムライスを作ります。')\n",
    "thread1 = threading.Thread(target=make_chiken_rice)\n",
    "thread2 = threading.Thread(target=make_omelette)\n",
    "thread1.start()\n",
    "thread2.start()\n",
    "thread1.join()\n",
    "thread2.join()\n",
    "print('盛り付けます。')\n",
    "time.sleep(1)\n",
    "print('オムライスができました。')"
   ]
  },
  {
   "cell_type": "code",
   "execution_count": null,
   "id": "8b384735",
   "metadata": {},
   "outputs": [],
   "source": []
  }
 ],
 "metadata": {
  "kernelspec": {
   "display_name": "Python 3 (ipykernel)",
   "language": "python",
   "name": "python3"
  },
  "language_info": {
   "codemirror_mode": {
    "name": "ipython",
    "version": 3
   },
   "file_extension": ".py",
   "mimetype": "text/x-python",
   "name": "python",
   "nbconvert_exporter": "python",
   "pygments_lexer": "ipython3",
   "version": "3.8.12"
  }
 },
 "nbformat": 4,
 "nbformat_minor": 5
}
